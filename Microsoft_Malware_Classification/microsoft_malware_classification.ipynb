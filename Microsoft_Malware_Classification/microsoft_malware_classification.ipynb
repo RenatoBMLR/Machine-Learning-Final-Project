{
  "nbformat": 4,
  "nbformat_minor": 0,
  "metadata": {
    "colab": {
      "name": "microsoft_malware_classification.ipynb",
      "version": "0.3.2",
      "provenance": [],
      "collapsed_sections": []
    },
    "kernelspec": {
      "name": "python3",
      "display_name": "Python 3"
    },
    "accelerator": "GPU"
  },
  "cells": [
    {
      "metadata": {
        "id": "zMYQUkNl3e3I",
        "colab_type": "text"
      },
      "cell_type": "markdown",
      "source": [
        "** *\n",
        "# Microsoft Malware Classification Challenge (BIG 2015)\n",
        "\n",
        "---\n",
        "\n",
        "\n",
        "https://www.kaggle.com/c/malware-classification/\n"
      ]
    },
    {
      "metadata": {
        "id": "64M3PU1ny8TZ",
        "colab_type": "toc"
      },
      "cell_type": "markdown",
      "source": [
        ">[Microsoft Malware Classification Challenge (BIG 2015)](#scrollTo=zMYQUkNl3e3I)\n",
        "\n",
        ">[Initial Setup](#scrollTo=U0PO6PE-0JFr)\n",
        "\n",
        ">>[Download Dataset](#scrollTo=afqc3ABYzOTC)\n",
        "\n",
        ">[Extract Features](#scrollTo=ms9rLqS_pgRl)\n",
        "\n"
      ]
    },
    {
      "metadata": {
        "id": "U0PO6PE-0JFr",
        "colab_type": "text"
      },
      "cell_type": "markdown",
      "source": [
        "# Initial Setup"
      ]
    },
    {
      "metadata": {
        "id": "afqc3ABYzOTC",
        "colab_type": "text"
      },
      "cell_type": "markdown",
      "source": [
        "## Download Dataset"
      ]
    },
    {
      "metadata": {
        "id": "deZJ5GoSoNr8",
        "colab_type": "code",
        "colab": {}
      },
      "cell_type": "code",
      "source": [
        "!pip install kaggle"
      ],
      "execution_count": 0,
      "outputs": []
    },
    {
      "metadata": {
        "id": "o-mvottSCai9",
        "colab_type": "code",
        "colab": {
          "base_uri": "https://localhost:8080/",
          "height": 34
        },
        "outputId": "2c7e4b59-179d-4293-de3e-b68b9efbfd54"
      },
      "cell_type": "code",
      "source": [
        "from googleapiclient.discovery import build\n",
        "import io, os\n",
        "from googleapiclient.http import MediaIoBaseDownload\n",
        "from google.colab import auth\n",
        "\n",
        "if not os.path.exists('data/'):\n",
        "\n",
        "    auth.authenticate_user()\n",
        "\n",
        "    drive_service = build('drive', 'v3')\n",
        "    results = drive_service.files().list(\n",
        "            q=\"name = 'kaggle.json'\", fields=\"files(id)\").execute()\n",
        "    kaggle_api_key = results.get('files', [])\n",
        "\n",
        "    filename = \"/content/.kaggle/kaggle.json\"\n",
        "    os.makedirs(os.path.dirname(filename), exist_ok=True)\n",
        "\n",
        "    request = drive_service.files().get_media(fileId=kaggle_api_key[0]['id'])\n",
        "    fh = io.FileIO(filename, 'wb')\n",
        "    downloader = MediaIoBaseDownload(fh, request)\n",
        "    done = False\n",
        "    while done is False:\n",
        "        status, done = downloader.next_chunk()\n",
        "        print(\"Download %d%%.\" % int(status.progress() * 100))\n",
        "    os.chmod(filename, 600)\n",
        "\n",
        "    !kaggle competitions download -c malware-classification -p data/\n",
        "    \n",
        "else:\n",
        "    print('Dataset already downloaded!')"
      ],
      "execution_count": 95,
      "outputs": [
        {
          "output_type": "stream",
          "text": [
            "Dataset already downloaded!\n"
          ],
          "name": "stdout"
        }
      ]
    },
    {
      "metadata": {
        "id": "0qzGQmimPu1I",
        "colab_type": "code",
        "colab": {}
      },
      "cell_type": "code",
      "source": [
        "import re\n",
        "import glob\n",
        "from tqdm import tqdm\n",
        "#from tqdm import tqdm_notebook\n",
        "\n",
        "\n",
        "import numpy as np\n",
        "import pandas as pd\n",
        "\n",
        "import multiprocessing\n",
        "from multiprocessing.dummy import Pool"
      ],
      "execution_count": 0,
      "outputs": []
    },
    {
      "metadata": {
        "id": "gfqlgbYoTY4d",
        "colab_type": "code",
        "colab": {
          "base_uri": "https://localhost:8080/",
          "height": 34
        },
        "outputId": "d27571a6-6d52-447c-8a6c-e54e6f4790ca"
      },
      "cell_type": "code",
      "source": [
        "cpu_count  = 2*multiprocessing.cpu_count()-1\n",
        "print('Number of CPUs: {}'.format(cpu_count))"
      ],
      "execution_count": 97,
      "outputs": [
        {
          "output_type": "stream",
          "text": [
            "Number of CPUs: 3\n"
          ],
          "name": "stdout"
        }
      ]
    },
    {
      "metadata": {
        "id": "ecvC_iJ4DMIT",
        "colab_type": "code",
        "colab": {
          "base_uri": "https://localhost:8080/",
          "height": 360
        },
        "outputId": "519622c4-d2cb-4599-b007-86d3e208c172"
      },
      "cell_type": "code",
      "source": [
        "trainLabels = pd.read_csv('data/trainLabels.csv')\n",
        "trainLabels.Class.value_counts().plot(kind = 'bar')"
      ],
      "execution_count": 98,
      "outputs": [
        {
          "output_type": "execute_result",
          "data": {
            "text/plain": [
              "<matplotlib.axes._subplots.AxesSubplot at 0x7feb34914b70>"
            ]
          },
          "metadata": {
            "tags": []
          },
          "execution_count": 98
        },
        {
          "output_type": "display_data",
          "data": {
            "image/png": "[encoded data removed]",
            "text/plain": [
              "<matplotlib.figure.Figure at 0x7feb3a60a390>"
            ]
          },
          "metadata": {
            "tags": []
          }
        }
      ]
    },
    {
      "metadata": {
        "id": "fzu81toJrzoR",
        "colab_type": "code",
        "colab": {}
      },
      "cell_type": "code",
      "source": [
        "!cd data && p7zip -d train.7z"
      ],
      "execution_count": 0,
      "outputs": []
    },
    {
      "metadata": {
        "id": "ms9rLqS_pgRl",
        "colab_type": "text"
      },
      "cell_type": "markdown",
      "source": [
        "# Extract Features"
      ]
    },
    {
      "metadata": {
        "id": "WWdKiWNitq6G",
        "colab_type": "code",
        "colab": {}
      },
      "cell_type": "code",
      "source": [
        "def getOpcodes(file2path):\n",
        "\n",
        "    openfile = io.open(file2path,'r',encoding='latin-1')\n",
        "    lines=openfile.readlines()\n",
        "\n",
        "    opcodes_lst = []\n",
        "\n",
        "    for line in lines:\n",
        "        opcode_group = re.search('\\s\\s\\s[a-z][a-z]+\\s\\s\\s',line)\n",
        "        if opcode_group:\n",
        "            opcode = opcode_group.group().strip()\n",
        "            opcodes_lst.append(opcode)\n",
        "            pass\n",
        "            \n",
        "    return opcodes_lst, file2path"
      ],
      "execution_count": 0,
      "outputs": []
    },
    {
      "metadata": {
        "id": "BJynSdQASXiU",
        "colab_type": "code",
        "colab": {}
      },
      "cell_type": "code",
      "source": [
        "def extractInParallel(path_lst, threads=2):\n",
        "    p = Pool(threads)\n",
        "    opcodes_lst = []\n",
        "    file_lst = []\n",
        "    for opcode, file in tqdm((p.imap_unordered(getOpcodes, path_lst)), total=len(path_lst)):\n",
        "        opcodes_lst.append(opcode)\n",
        "        file_lst.append(file)\n",
        "        pass\n",
        "    p.close()\n",
        "    p.join()\n",
        "    return opcodes_lst, file_lst"
      ],
      "execution_count": 0,
      "outputs": []
    },
    {
      "metadata": {
        "id": "V7UsimCqRFCc",
        "colab_type": "code",
        "colab": {}
      },
      "cell_type": "code",
      "source": [
        "def extractFeatures(path2data, format_file = '*.asm'):\n",
        "  \n",
        "    for subdir, dirs, files in os.walk(path2data):\n",
        "          print('Reading files from dir: {}'.format(subdir))\n",
        "          path_folder = os.path.join(subdir, format_file)\n",
        "          filesPath = glob.glob(path_folder) \n",
        "          print('Extractig features from: {} files'.format(len(filesPath)))\n",
        "          opcodes_lst, file_lst =  extractInParallel(filesPath, threads=cpu_count)\n",
        "          print('\\nDone!')\n",
        "    return np.array(opcodes_lst), np.array(file_lst)"
      ],
      "execution_count": 0,
      "outputs": []
    },
    {
      "metadata": {
        "id": "o1lm7q7yUmIO",
        "colab_type": "code",
        "colab": {}
      },
      "cell_type": "code",
      "source": [
        "path2train = 'data/train'\n",
        "X_train, y_train = extractFeatures(path2train)"
      ],
      "execution_count": 0,
      "outputs": []
    },
    {
      "metadata": {
        "id": "l1vM47XTV7yT",
        "colab_type": "code",
        "colab": {
          "base_uri": "https://localhost:8080/",
          "height": 51
        },
        "outputId": "42aa8663-13b1-4cc7-ca9d-c663e62a84f2"
      },
      "cell_type": "code",
      "source": [
        "print('X_train shape: {}'.format(X_train.shape))\n",
        "print('y_train shape: {}'.format(y_train.shape))"
      ],
      "execution_count": 64,
      "outputs": [
        {
          "output_type": "stream",
          "text": [
            "X_train shape: (72,)\n",
            "y_train shape: (72,)\n"
          ],
          "name": "stdout"
        }
      ]
    },
    {
      "metadata": {
        "id": "JwagJEUFngDB",
        "colab_type": "code",
        "colab": {}
      },
      "cell_type": "code",
      "source": [
        "df = pd.DataFrame(list(X_train))"
      ],
      "execution_count": 0,
      "outputs": []
    },
    {
      "metadata": {
        "id": "krp1fDsKnlP3",
        "colab_type": "code",
        "colab": {
          "base_uri": "https://localhost:8080/",
          "height": 273
        },
        "outputId": "86f6f60e-b15d-4efc-fe16-2bd7bb37f1c4"
      },
      "cell_type": "code",
      "source": [
        "df.head()"
      ],
      "execution_count": 85,
      "outputs": [
        {
          "output_type": "execute_result",
          "data": {
            "text/html": [
              "<div>\n",
              "<style scoped>\n",
              "    .dataframe tbody tr th:only-of-type {\n",
              "        vertical-align: middle;\n",
              "    }\n",
              "\n",
              "    .dataframe tbody tr th {\n",
              "        vertical-align: top;\n",
              "    }\n",
              "\n",
              "    .dataframe thead th {\n",
              "        text-align: right;\n",
              "    }\n",
              "</style>\n",
              "<table border=\"1\" class=\"dataframe\">\n",
              "  <thead>\n",
              "    <tr style=\"text-align: right;\">\n",
              "      <th></th>\n",
              "      <th>0</th>\n",
              "      <th>1</th>\n",
              "      <th>2</th>\n",
              "      <th>3</th>\n",
              "      <th>4</th>\n",
              "      <th>5</th>\n",
              "      <th>6</th>\n",
              "      <th>7</th>\n",
              "      <th>8</th>\n",
              "      <th>9</th>\n",
              "      <th>...</th>\n",
              "      <th>676962</th>\n",
              "      <th>676963</th>\n",
              "      <th>676964</th>\n",
              "      <th>676965</th>\n",
              "      <th>676966</th>\n",
              "      <th>676967</th>\n",
              "      <th>676968</th>\n",
              "      <th>676969</th>\n",
              "      <th>676970</th>\n",
              "      <th>676971</th>\n",
              "    </tr>\n",
              "  </thead>\n",
              "  <tbody>\n",
              "    <tr>\n",
              "      <th>0</th>\n",
              "      <td>mov</td>\n",
              "      <td>push</td>\n",
              "      <td>push</td>\n",
              "      <td>push</td>\n",
              "      <td>push</td>\n",
              "      <td>call</td>\n",
              "      <td>pop</td>\n",
              "      <td>lea</td>\n",
              "      <td>push</td>\n",
              "      <td>call</td>\n",
              "      <td>...</td>\n",
              "      <td>None</td>\n",
              "      <td>None</td>\n",
              "      <td>None</td>\n",
              "      <td>None</td>\n",
              "      <td>None</td>\n",
              "      <td>None</td>\n",
              "      <td>None</td>\n",
              "      <td>None</td>\n",
              "      <td>None</td>\n",
              "      <td>None</td>\n",
              "    </tr>\n",
              "    <tr>\n",
              "      <th>1</th>\n",
              "      <td>push</td>\n",
              "      <td>mov</td>\n",
              "      <td>sub</td>\n",
              "      <td>mov</td>\n",
              "      <td>mov</td>\n",
              "      <td>mov</td>\n",
              "      <td>movzx</td>\n",
              "      <td>mov</td>\n",
              "      <td>movzx</td>\n",
              "      <td>sub</td>\n",
              "      <td>...</td>\n",
              "      <td>None</td>\n",
              "      <td>None</td>\n",
              "      <td>None</td>\n",
              "      <td>None</td>\n",
              "      <td>None</td>\n",
              "      <td>None</td>\n",
              "      <td>None</td>\n",
              "      <td>None</td>\n",
              "      <td>None</td>\n",
              "      <td>None</td>\n",
              "    </tr>\n",
              "    <tr>\n",
              "      <th>2</th>\n",
              "      <td>jmp</td>\n",
              "      <td>jmp</td>\n",
              "      <td>fadd</td>\n",
              "      <td>add</td>\n",
              "      <td>sub</td>\n",
              "      <td>sar</td>\n",
              "      <td>push</td>\n",
              "      <td>and</td>\n",
              "      <td>jmp</td>\n",
              "      <td>jmp</td>\n",
              "      <td>...</td>\n",
              "      <td>None</td>\n",
              "      <td>None</td>\n",
              "      <td>None</td>\n",
              "      <td>None</td>\n",
              "      <td>None</td>\n",
              "      <td>None</td>\n",
              "      <td>None</td>\n",
              "      <td>None</td>\n",
              "      <td>None</td>\n",
              "      <td>None</td>\n",
              "    </tr>\n",
              "    <tr>\n",
              "      <th>3</th>\n",
              "      <td>mov</td>\n",
              "      <td>jmp</td>\n",
              "      <td>push</td>\n",
              "      <td>mov</td>\n",
              "      <td>mov</td>\n",
              "      <td>call</td>\n",
              "      <td>test</td>\n",
              "      <td>jz</td>\n",
              "      <td>push</td>\n",
              "      <td>call</td>\n",
              "      <td>...</td>\n",
              "      <td>None</td>\n",
              "      <td>None</td>\n",
              "      <td>None</td>\n",
              "      <td>None</td>\n",
              "      <td>None</td>\n",
              "      <td>None</td>\n",
              "      <td>None</td>\n",
              "      <td>None</td>\n",
              "      <td>None</td>\n",
              "      <td>None</td>\n",
              "    </tr>\n",
              "    <tr>\n",
              "      <th>4</th>\n",
              "      <td>push</td>\n",
              "      <td>mov</td>\n",
              "      <td>sub</td>\n",
              "      <td>mov</td>\n",
              "      <td>mov</td>\n",
              "      <td>cmp</td>\n",
              "      <td>jz</td>\n",
              "      <td>mov</td>\n",
              "      <td>mov</td>\n",
              "      <td>mov</td>\n",
              "      <td>...</td>\n",
              "      <td>None</td>\n",
              "      <td>None</td>\n",
              "      <td>None</td>\n",
              "      <td>None</td>\n",
              "      <td>None</td>\n",
              "      <td>None</td>\n",
              "      <td>None</td>\n",
              "      <td>None</td>\n",
              "      <td>None</td>\n",
              "      <td>None</td>\n",
              "    </tr>\n",
              "  </tbody>\n",
              "</table>\n",
              "<p>5 rows × 676972 columns</p>\n",
              "</div>"
            ],
            "text/plain": [
              "  0      1      2      3      4      5      6      7      8      9       \\\n",
              "0    mov   push   push   push   push   call    pop    lea   push   call   \n",
              "1   push    mov    sub    mov    mov    mov  movzx    mov  movzx    sub   \n",
              "2    jmp    jmp   fadd    add    sub    sar   push    and    jmp    jmp   \n",
              "3    mov    jmp   push    mov    mov   call   test     jz   push   call   \n",
              "4   push    mov    sub    mov    mov    cmp     jz    mov    mov    mov   \n",
              "\n",
              "   ...   676962 676963 676964 676965 676966 676967 676968 676969 676970 676971  \n",
              "0  ...     None   None   None   None   None   None   None   None   None   None  \n",
              "1  ...     None   None   None   None   None   None   None   None   None   None  \n",
              "2  ...     None   None   None   None   None   None   None   None   None   None  \n",
              "3  ...     None   None   None   None   None   None   None   None   None   None  \n",
              "4  ...     None   None   None   None   None   None   None   None   None   None  \n",
              "\n",
              "[5 rows x 676972 columns]"
            ]
          },
          "metadata": {
            "tags": []
          },
          "execution_count": 85
        }
      ]
    },
    {
      "metadata": {
        "id": "jpCeXCexoNpr",
        "colab_type": "code",
        "colab": {}
      },
      "cell_type": "code",
      "source": [
        "import matplotlib.pyplot as plt"
      ],
      "execution_count": 0,
      "outputs": []
    },
    {
      "metadata": {
        "id": "Eud-pDN9n3ux",
        "colab_type": "code",
        "colab": {
          "base_uri": "https://localhost:8080/",
          "height": 401
        },
        "outputId": "90e012e2-5ca4-4538-da9d-b897691ddbce"
      },
      "cell_type": "code",
      "source": [
        "idx = 0\n",
        "\n",
        "df.iloc[idx].value_counts().plot(kind = 'barh')\n",
        "plt.title('Count of opcodes for sample {}'.format(idx), fontsize=18)\n",
        "plt.xlabel('#ocorrences', fontsize=14)"
      ],
      "execution_count": 93,
      "outputs": [
        {
          "output_type": "execute_result",
          "data": {
            "text/plain": [
              "Text(0.5,0,'#ocorrences')"
            ]
          },
          "metadata": {
            "tags": []
          },
          "execution_count": 93
        },
        {
          "output_type": "display_data",
          "data": {
            "image/png": "[encoded data removed]",
            "text/plain": [
              "<matplotlib.figure.Figure at 0x7feb53ec6c50>"
            ]
          },
          "metadata": {
            "tags": []
          }
        }
      ]
    },
    {
      "metadata": {
        "id": "_7pE87gkp-yb",
        "colab_type": "text"
      },
      "cell_type": "markdown",
      "source": [
        "## Saving processed data"
      ]
    },
    {
      "metadata": {
        "id": "kD4j87erqAhu",
        "colab_type": "code",
        "colab": {}
      },
      "cell_type": "code",
      "source": [
        "def save_data(X, y, file, path2save):\n",
        "\n",
        "    os.makedirs(path2save)\n",
        "    \n",
        "    data ={'X':X, 'y':y}\n",
        "    np.savez(path2save + file + \".npz\",**data)\n",
        "\n",
        "    print('Saved in: {}'.format(path2save))  "
      ],
      "execution_count": 0,
      "outputs": []
    },
    {
      "metadata": {
        "id": "nxy9rid0seJo",
        "colab_type": "code",
        "colab": {
          "base_uri": "https://localhost:8080/",
          "height": 34
        },
        "outputId": "eb05f7a6-9d13-448a-8f48-df27a3e29a99"
      },
      "cell_type": "code",
      "source": [
        "path2saveTrain = 'proc_data/train/'\n",
        "\n",
        "if not os.path.exists(path2saveTrain):\n",
        "    save_data(X_train, y_train,'opcodes', path2saveTrain)\n",
        "\n",
        "else:\n",
        "    print('Data already processed!')"
      ],
      "execution_count": 74,
      "outputs": [
        {
          "output_type": "stream",
          "text": [
            "Saved in: proc_data/train/\n"
          ],
          "name": "stdout"
        }
      ]
    },
    {
      "metadata": {
        "id": "qYMaw8Q0kFjx",
        "colab_type": "text"
      },
      "cell_type": "markdown",
      "source": [
        "# N-grams"
      ]
    },
    {
      "metadata": {
        "id": "2kT-rT1DnOfs",
        "colab_type": "code",
        "colab": {}
      },
      "cell_type": "code",
      "source": [
        "from sklearn.feature_extraction.text import CountVectorizer\n",
        "from sklearn.feature_extraction.text import TfidfTransformer"
      ],
      "execution_count": 0,
      "outputs": []
    },
    {
      "metadata": {
        "id": "pKAvPsjKlJr5",
        "colab_type": "code",
        "colab": {
          "base_uri": "https://localhost:8080/",
          "height": 34
        },
        "outputId": "a3f9c86c-7e61-47ba-bfe2-79f8c47cd2c0"
      },
      "cell_type": "code",
      "source": [
        "max_gram = 4\n",
        "print('Max_grams: {}'.format(max_gram))"
      ],
      "execution_count": 81,
      "outputs": [
        {
          "output_type": "stream",
          "text": [
            "Max_grams: 4\n"
          ],
          "name": "stdout"
        }
      ]
    },
    {
      "metadata": {
        "id": "gV-t7fS4zKtu",
        "colab_type": "code",
        "colab": {
          "base_uri": "https://localhost:8080/",
          "height": 51
        },
        "outputId": "062248fc-f06a-41c0-9a2c-a2e4a47e8ed2"
      },
      "cell_type": "code",
      "source": [
        "print('Counting ocorrences of words. Ngram-range: {}...'.format(str((1,max_gram))))\n",
        "vectorizer = CountVectorizer(analyzer = \"word\",\n",
        "                             max_features = 300, ngram_range=(1,max_gram)) \n",
        "f_train = vectorizer.fit_transform([\" \".join(x) for x in X_train])\n",
        "\n",
        "#downscale weights for words using tf–idf: “Term Frequency times Inverse Document Frequency”.\n",
        "print('Words downscaling using TF-IDF...')\n",
        "\n",
        "tfidf_transformer = TfidfTransformer()\n",
        "f_train = tfidf_transformer.fit_transform(f_train)\n",
        "\n",
        "model = vectorizer"
      ],
      "execution_count": 82,
      "outputs": [
        {
          "output_type": "stream",
          "text": [
            "Counting ocorrences of words. Ngram-range: (1, 4)...\n",
            "Words downscaling using TF-IDF...\n"
          ],
          "name": "stdout"
        }
      ]
    },
    {
      "metadata": {
        "id": "5Vp7y_b_plzp",
        "colab_type": "code",
        "colab": {}
      },
      "cell_type": "code",
      "source": [
        ""
      ],
      "execution_count": 0,
      "outputs": []
    }
  ]
}